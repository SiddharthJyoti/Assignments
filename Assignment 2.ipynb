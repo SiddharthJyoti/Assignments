{
 "cells": [
  {
   "cell_type": "code",
   "execution_count": null,
   "metadata": {},
   "outputs": [],
   "source": [
    "#Assignment 2\n",
    "'''Task 1:\n",
    "1.1\n",
    "Write a Python Program to implement your own myreduce() function which works exactly like\n",
    "Python's built-in function reduce()'''\n"
   ]
  },
  {
   "cell_type": "code",
   "execution_count": 1,
   "metadata": {},
   "outputs": [
    {
     "data": {
      "text/plain": [
       "113"
      ]
     },
     "execution_count": 1,
     "metadata": {},
     "output_type": "execute_result"
    }
   ],
   "source": [
    "#Example with reduce\n",
    "from functools import reduce\n",
    "lst =[47,11,42,13]\n",
    "reduce(lambda x,y: x+y,lst)"
   ]
  },
  {
   "cell_type": "code",
   "execution_count": 20,
   "metadata": {},
   "outputs": [
    {
     "name": "stdout",
     "output_type": "stream",
     "text": [
      "113\n"
     ]
    }
   ],
   "source": [
    "#Example without reduce\n",
    "myReduce = 0\n",
    "for i in range(len(lst)):\n",
    "    myReduce += lst[i]\n",
    "print(myReduce)\n",
    "    "
   ]
  },
  {
   "cell_type": "code",
   "execution_count": 21,
   "metadata": {},
   "outputs": [],
   "source": [
    "'''Write a Python program to implement your own myfilter() function which works exactly like\n",
    "Python's built-in function filter()'''\n",
    "\n",
    "def even_check(num):\n",
    "    if num%2 ==0:\n",
    "        return True\n",
    "    "
   ]
  },
  {
   "cell_type": "code",
   "execution_count": 22,
   "metadata": {},
   "outputs": [
    {
     "data": {
      "text/plain": [
       "[0, 2, 4, 6, 8, 10, 12, 14, 16, 18]"
      ]
     },
     "execution_count": 22,
     "metadata": {},
     "output_type": "execute_result"
    }
   ],
   "source": [
    "#with filter\n",
    "lst =range(20)\n",
    "list(filter(even_check,lst))"
   ]
  },
  {
   "cell_type": "code",
   "execution_count": 23,
   "metadata": {},
   "outputs": [
    {
     "data": {
      "text/plain": [
       "[0, 2, 4, 6, 8, 10, 12, 14, 16, 18]"
      ]
     },
     "execution_count": 23,
     "metadata": {},
     "output_type": "execute_result"
    }
   ],
   "source": [
    "list(filter(even_check,lst))"
   ]
  },
  {
   "cell_type": "code",
   "execution_count": 33,
   "metadata": {},
   "outputs": [
    {
     "data": {
      "text/plain": [
       "[0, 2, 4, 6, 8, 10, 12, 14, 16, 18]"
      ]
     },
     "execution_count": 33,
     "metadata": {},
     "output_type": "execute_result"
    }
   ],
   "source": [
    "#without filter\n",
    "[x for x in lst if x%2 ==0]"
   ]
  },
  {
   "cell_type": "code",
   "execution_count": 47,
   "metadata": {},
   "outputs": [
    {
     "name": "stdout",
     "output_type": "stream",
     "text": [
      "1\n",
      "2\n",
      "3\n",
      "4\n"
     ]
    }
   ],
   "source": [
    "for x in range(1,5):\n",
    "    print(x)"
   ]
  },
  {
   "cell_type": "code",
   "execution_count": null,
   "metadata": {},
   "outputs": [],
   "source": [
    "'''Implement List comprehensions to produce the following lists.\n",
    "Write List comprehensions to produce the following Lists\n",
    "['A', 'C', 'A', 'D', 'G', 'I', ’L’, ‘ D’]\n",
    "'''\n",
    "acadgild_lst = [ x for x in \"ACADGILD\" ]\n",
    "print (str(acadgild_lst))\n",
    "'''\n",
    "['x', 'xx', 'xxx', 'xxxx', 'y', 'yy', 'yyy', 'yyyy', 'z', 'zz', 'zzz', 'zzzz']'''\n",
    "display = [y*x for y in ['x','y','z']for x in [1,2,3,4]]\n",
    "print(display)\n",
    "'''\n",
    "['x', 'y', 'z', 'xx', 'yy', 'zz', 'xx', 'yy', 'zz', 'xxxx', 'yyyy', 'zzzz']'''\n",
    "display = [y*x for x in [1,2,3,4] for y in ['x','y','z']]\n",
    "print(display)\n",
    "'''[[2], [3], [4], [3], [4], [5], [4], [5], [6]]'''\n",
    "display = [ [x+y] for x in [2,3,4] for y in range(0,3)]\n",
    "print(result)\n",
    "'''[[2, 3, 4, 5], [3, 4, 5, 6], [4, 5, 6, 7], [5, 6, 7, 8]]'''\n",
    "display = [[x+y for x in [2,3,4,5]] for y in range(0,4)  ]\n",
    "print(display)\n",
    "'''\n",
    "[(1, 1), (2, 1), (3, 1), (1, 2), (2, 2), (3, 2), (1, 3), (2, 3), (3, 3)]'''\n",
    "\n",
    "display = [(y,x) for x in [1,2,3] for y in [1,2,3]]\n",
    "print(display)\n"
   ]
  },
  {
   "cell_type": "code",
   "execution_count": 1,
   "metadata": {},
   "outputs": [
    {
     "name": "stdout",
     "output_type": "stream",
     "text": [
      "Please input words: s\n",
      "You longe word  s ==> 1 characters\n"
     ]
    }
   ],
   "source": [
    "#Implement a function longestWord() that takes a list of words and returns the longest one.\n",
    "def longestWord():\n",
    "    a = sorted(input(\"Please input words: \").split(), key=len) [-1]\n",
    "    print (\"You longe word \", str(a), \"==>\", str(len(a)), \"characters\")\n",
    "\n",
    "longestWord()  "
   ]
  },
  {
   "cell_type": "code",
   "execution_count": 3,
   "metadata": {},
   "outputs": [
    {
     "name": "stdout",
     "output_type": "stream",
     "text": [
      "Enter first side: 12\n",
      "Enter second side: 14\n",
      "Enter third side: 15\n",
      "The area of the triangle is 78.93\n"
     ]
    }
   ],
   "source": [
    "'''Task 2:\n",
    "\n",
    "1.1\n",
    "Write a Python Program(with class concepts) to find the area of the triangle using the below\n",
    "formula.\n",
    "area = (s*(s-a)*(s-b)*(s-c)) ** 0.5\n",
    "Function to take the length of the sides of triangle from user should be defined in the parent\n",
    "class and function to calculate the area should be defined in subclass.'''\n",
    "a = float(input('Enter first side: '))\n",
    "b = float(input('Enter second side: '))\n",
    "c = float(input('Enter third side: '))\n",
    " \n",
    "s = (a + b + c) / 2\n",
    " \n",
    "area = (s*(s-a)*(s-b)*(s-c)) ** 0.5\n",
    "print('The area of the triangle is %0.2f' % area)\n"
   ]
  },
  {
   "cell_type": "code",
   "execution_count": 19,
   "metadata": {},
   "outputs": [
    {
     "name": "stdout",
     "output_type": "stream",
     "text": [
      "['hello']\n"
     ]
    }
   ],
   "source": [
    "'''Write a function filter_long_words() that takes a list of words and an integer n and returns the list\n",
    "of words that are longer than n.'''\n",
    "def filter_long_words(lst_words,n):\n",
    "    print(list(filter(lambda x:len(x)>n,lst_words)))\n",
    "\n",
    "filter_long_words(['hello', 'hi'],3)  "
   ]
  },
  {
   "cell_type": "code",
   "execution_count": 21,
   "metadata": {},
   "outputs": [
    {
     "data": {
      "text/plain": [
       "[4, 5]"
      ]
     },
     "execution_count": 21,
     "metadata": {},
     "output_type": "execute_result"
    }
   ],
   "source": [
    "'''\n",
    "Write a Python program using function concept that maps list of words into a list of integers\n",
    "representing the lengths of the corresponding words.\n",
    "Hint: ​If a list [ ab,cde,erty] is passed on to the python function output should come as [2,3,4]\n",
    "Here 2,3 and 4 are the lengths of the words in the list.\n",
    "'''\n",
    "def word_to_length(words):\n",
    "    lengths = []\n",
    "    for word in words:\n",
    "        lengths.append(len(word))\n",
    "    return lengths\n",
    "word_to_length(['sidd','jyoti'])\n",
    "def word_to_length_2(words):\n",
    "    return [len(word) for word in words]\n",
    "word_to_length_2(['sidd','jyoti'])\n"
   ]
  },
  {
   "cell_type": "code",
   "execution_count": 23,
   "metadata": {},
   "outputs": [
    {
     "data": {
      "text/plain": [
       "False"
      ]
     },
     "execution_count": 23,
     "metadata": {},
     "output_type": "execute_result"
    }
   ],
   "source": [
    "'''Write a Python function which takes a character (i.e. a string of length 1) and returns True if it is\n",
    "a vowel, False otherwise.'''\n",
    "def isVowel(x):\n",
    "    v = ('a', 'e', 'i', 'o', 'u')\n",
    "    if x not in v:\n",
    "        return False\n",
    "    return True\n",
    "\n",
    "isVowel('b')"
   ]
  },
  {
   "cell_type": "code",
   "execution_count": null,
   "metadata": {},
   "outputs": [],
   "source": []
  }
 ],
 "metadata": {
  "kernelspec": {
   "display_name": "Python 3",
   "language": "python",
   "name": "python3"
  },
  "language_info": {
   "codemirror_mode": {
    "name": "ipython",
    "version": 3
   },
   "file_extension": ".py",
   "mimetype": "text/x-python",
   "name": "python",
   "nbconvert_exporter": "python",
   "pygments_lexer": "ipython3",
   "version": "3.6.5"
  }
 },
 "nbformat": 4,
 "nbformat_minor": 2
}
