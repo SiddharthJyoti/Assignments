{
 "cells": [
  {
   "cell_type": "code",
   "execution_count": 2,
   "metadata": {},
   "outputs": [
    {
     "data": {
      "text/plain": [
       "['s', 'i', 'd', 'd', 'h', 'a', 'r', 't', 'h']"
      ]
     },
     "execution_count": 2,
     "metadata": {},
     "output_type": "execute_result"
    }
   ],
   "source": [
    "##Assignment 1 == > Task 1 == > Question 1\n",
    "#Install Jupyter notebook and run the first program and share the screenshot of the output.\n",
    "\n",
    "list('siddharth')"
   ]
  },
  {
   "cell_type": "code",
   "execution_count": 178,
   "metadata": {},
   "outputs": [
    {
     "name": "stdout",
     "output_type": "stream",
     "text": [
      "2002,2009,2016,2023,2037,2044,2051,2058,2072,2079,2086,2093,2107,2114,2121,2128,2142,2149,2156,2163,2177,2184,2191,2198,2212,2219,2226,2233,2247,2254,2261,2268,2282,2289,2296,2303,2317,2324,2331,2338,2352,2359,2366,2373,2387,2394,2401,2408,2422,2429,2436,2443,2457,2464,2471,2478,2492,2499,2506,2513,2527,2534,2541,2548,2562,2569,2576,2583,2597,2604,2611,2618,2632,2639,2646,2653,2667,2674,2681,2688,2702,2709,2716,2723,2737,2744,2751,2758,2772,2779,2786,2793,2807,2814,2821,2828,2842,2849,2856,2863,2877,2884,2891,2898,2912,2919,2926,2933,2947,2954,2961,2968,2982,2989,2996,3003,3017,3024,3031,3038,3052,3059,3066,3073,3087,3094,3101,3108,3122,3129,3136,3143,3157,3164,3171,3178,3192,3199\n"
     ]
    }
   ],
   "source": [
    "#Assignment 1 == > Task 2 == > Question 2\n",
    "#Write a program which will find all such numbers which are divisible by 7 but are not a multiple\n",
    "#of 5, between 2000 and 3200 (both included). The numbers obtained should be printed in a\n",
    "#comma-separated sequence on a single line.\n",
    "output=[] \n",
    "startNumber = 2000 # input(startNumber)\n",
    "endEnumber = 3200  # input(endEnumber)\n",
    "for val in range(startNumber,endEnumber + 1):      \n",
    "   isNumDivBy7 = val % 7 == 0\n",
    "   isNumMultipleOf5 = (val % 5) == 0\n",
    "   if (isNumMultipleOf5 == False and isNumDivBy7 ) :\n",
    "        output.append(str(val)) \n",
    "else:       \n",
    "    print(','.join(output))\n",
    "\n",
    "    "
   ]
  },
  {
   "cell_type": "code",
   "execution_count": 181,
   "metadata": {},
   "outputs": [
    {
     "name": "stdout",
     "output_type": "stream",
     "text": [
      "Enter your first  name? siddharth\n",
      "Enter your last  name? jyoti\n",
      "htrahddis itoyj\n"
     ]
    }
   ],
   "source": [
    "##Assignment 1 == > Task 1 == > Question 3\n",
    "#Write a Python program to accept the user's first and last name and then getting them printed in\n",
    "#the the reverse order with a space between first name and last name.\n",
    "firstName = input(\"Enter your first  name? \")\n",
    "lastName = input(\"Enter your last  name? \")\n",
    "#reverse order with a space between first name and last name.\n",
    "print(firstName[::-1] + \" \" +lastName[::-1])"
   ]
  },
  {
   "cell_type": "code",
   "execution_count": 182,
   "metadata": {},
   "outputs": [
    {
     "name": "stdout",
     "output_type": "stream",
     "text": [
      "The volume is:  7238.229473870882\n"
     ]
    }
   ],
   "source": [
    "#Assignment 1 == > Task 1 == > Question 4\n",
    "#Write a Python program to find the volume of a sphere with diameter 12 cm.\n",
    "#Formula: V=4/3 * π * r3\n",
    "\n",
    "pi = 3.1415926535897931\n",
    "diameter= 12.0\n",
    "volume= 4.0/3.0*pi* diameter**3\n",
    "print('The volume is: ',volume)"
   ]
  },
  {
   "cell_type": "code",
   "execution_count": 183,
   "metadata": {},
   "outputs": [
    {
     "name": "stdout",
     "output_type": "stream",
     "text": [
      "Enter comma seperated Values1,4,5,6\n",
      "['1', '4', '5', '6']\n"
     ]
    }
   ],
   "source": [
    "#Assignment 1 == > Task 2 == > Question 1\n",
    "#Write a program which accepts a sequence of comma-separated numbers from console and\n",
    "#generate a list.\n",
    "commaSeperatedVals = input(\"Enter comma seperated Values\")\n",
    "print(commaSeperatedVals.split(','))\n",
    "\n"
   ]
  },
  {
   "cell_type": "code",
   "execution_count": 198,
   "metadata": {},
   "outputs": [
    {
     "name": "stdout",
     "output_type": "stream",
     "text": [
      "\n",
      "* \n",
      "* * \n",
      "* * * \n",
      "* * * * \n",
      "* * * * * \n",
      "* * * * \n",
      "* * * \n",
      "* * \n",
      "* \n"
     ]
    }
   ],
   "source": [
    "\"\"\"Assignment 1 == > Task 2 == > Question 2\n",
    "Create the below pattern using nested for loop in Python.\n",
    "*\n",
    "* *\n",
    "* * *\n",
    "* * * *\n",
    "* * * * *\n",
    "* * * *\n",
    "* * *\n",
    "* *\n",
    "*\n",
    "* \"\"\"\n",
    "maxNumberOfStars = 5\n",
    "for i in range(maxNumberOfStars):\n",
    "    for j in range(i):\n",
    "        print ('* ', end=\"\") # Appends a space instead of a newline\n",
    "\n",
    "    print('')\n",
    "\n",
    "for i in range(maxNumberOfStars,0,-1):\n",
    "    for j in range(i):\n",
    "        print('* ', end=\"\")\n",
    "    print('')\n",
    "    "
   ]
  },
  {
   "cell_type": "code",
   "execution_count": 197,
   "metadata": {},
   "outputs": [
    {
     "name": "stdout",
     "output_type": "stream",
     "text": [
      " Input wordsiddharth\n",
      "htrahddis\n"
     ]
    }
   ],
   "source": [
    "\"\"\"Assignment 1 == > Task 2 == > Question 3\n",
    "Write a Python program to reverse a word after accepting the input from the user.\n",
    "\"\"\"\n",
    "word = input(' Input word')\n",
    "print(word[::-1])"
   ]
  },
  {
   "cell_type": "code",
   "execution_count": 227,
   "metadata": {},
   "outputs": [
    {
     "name": "stdout",
     "output_type": "stream",
     "text": [
      "WE, THE PEOPLE OF INDIA,\n",
      "\thaving solemnly resolved to constitute India into a SOVEREIGN, ! \n",
      "\t\tSOCIALIST, SECULAR, DEMOCRATIC REPUBLIC, \n",
      "\t\tand to secure to all its citizens.\n",
      "Enter the first sentenceSOCIALIST, SECULAR, DEMOCRATIC REPUBLIC\n",
      "Enter the second sentenceSOCIALIST, SECULAR, DEMOCRATIC REPUBLIC\n",
      "SOCIALIST, SECULAR, DEMOCRATIC REPUBLIC  SOCIALIST, SECULAR, DEMOCRATIC REPUBLIC!\n"
     ]
    }
   ],
   "source": [
    "\"\"\"Assignment 1 == > Task 2 == > Question 4\n",
    "Write a Python Program to print the given string in the format specified in the sample output.\n",
    "WE, THE PEOPLE OF INDIA, having solemnly resolved to constitute India into a\n",
    "SOVEREIGN, SOCIALIST, SECULAR, DEMOCRATIC REPUBLIC and to secure to all\n",
    "its citizens\"\"\"\n",
    "\n",
    "print(\"WE, THE PEOPLE OF INDIA,\\n\\thaving solemnly resolved to constitute India into a SOVEREIGN, ! \\n\\t\\tSOCIALIST, SECULAR, DEMOCRATIC REPUBLIC, \\n\\t\\tand to secure to all its citizens.\")\n",
    "userInput = input(\"Enter the first sentence\")\n",
    "userInput2 = input(\"Enter the second sentence\")\n",
    "\n",
    "completeInput = userInput + \"\\n\\t\\t{} {},.\"                     \n",
    "print(\"{}  {}!\".format(userInput, userInput2))\n",
    "\n",
    "\n",
    "\n",
    "\n",
    "\n"
   ]
  },
  {
   "cell_type": "code",
   "execution_count": 196,
   "metadata": {},
   "outputs": [
    {
     "data": {
      "text/plain": [
       "['sidd', 'h', 'arth']"
      ]
     },
     "execution_count": 196,
     "metadata": {},
     "output_type": "execute_result"
    }
   ],
   "source": [
    "name = []\n",
    "name.append('sidd')\n",
    "name.append('arth')\n",
    "name.insert(1,'h')\n",
    "name"
   ]
  },
  {
   "cell_type": "code",
   "execution_count": null,
   "metadata": {},
   "outputs": [],
   "source": []
  },
  {
   "cell_type": "code",
   "execution_count": 6,
   "metadata": {},
   "outputs": [
    {
     "name": "stdout",
     "output_type": "stream",
     "text": [
      "sidd\n",
      "h\n",
      "arth\n"
     ]
    }
   ],
   "source": [
    "for letters in name:\n",
    "    print(letters)\n"
   ]
  },
  {
   "cell_type": "code",
   "execution_count": 7,
   "metadata": {},
   "outputs": [
    {
     "data": {
      "text/plain": [
       "[0, 1, 2, 3, 4, 5, 6, 7, 8, 9]"
      ]
     },
     "execution_count": 7,
     "metadata": {},
     "output_type": "execute_result"
    }
   ],
   "source": [
    "list(range(10))"
   ]
  },
  {
   "cell_type": "code",
   "execution_count": 9,
   "metadata": {},
   "outputs": [
    {
     "name": "stdout",
     "output_type": "stream",
     "text": [
      "I work for DELL\n",
      "I work for Aditi Technologies\n"
     ]
    }
   ],
   "source": [
    "company = ['DELL','Aditi Technologies']\n",
    "for name in company:\n",
    "    print(\"I work for \" +name)"
   ]
  },
  {
   "cell_type": "code",
   "execution_count": 15,
   "metadata": {},
   "outputs": [
    {
     "name": "stdout",
     "output_type": "stream",
     "text": [
      "s\n",
      "t\n",
      "r\n",
      "The end\n"
     ]
    }
   ],
   "source": [
    "for val in \"string\":\n",
    "    if val == \"i\":\n",
    "        break\n",
    "    print(val)\n",
    "else:\n",
    "    print(\"here you go else\")\n",
    "\n",
    "\n",
    "print(\"The end\")"
   ]
  },
  {
   "cell_type": "code",
   "execution_count": 12,
   "metadata": {},
   "outputs": [
    {
     "data": {
      "text/plain": [
       "['a', 'b', 'c', 'd', 'e', 'f']"
      ]
     },
     "execution_count": 12,
     "metadata": {},
     "output_type": "execute_result"
    }
   ],
   "source": [
    "list('abcdef')"
   ]
  },
  {
   "cell_type": "code",
   "execution_count": 24,
   "metadata": {},
   "outputs": [
    {
     "name": "stdout",
     "output_type": "stream",
     "text": [
      "S\n",
      "i\n",
      "d\n",
      "d\n",
      "h\n",
      "a\n",
      "r\n",
      "t\n",
      "h\n",
      " \n",
      "J\n",
      "y\n",
      "o\n",
      "t\n",
      "i\n"
     ]
    }
   ],
   "source": [
    "# Beauty of storing string as a sequence. Use Index to get the elements\n",
    "name = \"Siddharth Jyoti\"\n",
    "for index in range(len(name)):\n",
    "    print(name[index])\n",
    "   \n",
    "    \n",
    "\n",
    "\n"
   ]
  },
  {
   "cell_type": "code",
   "execution_count": 27,
   "metadata": {},
   "outputs": [
    {
     "data": {
      "text/plain": [
       "'iddharth Jyoti'"
      ]
     },
     "execution_count": 27,
     "metadata": {},
     "output_type": "execute_result"
    }
   ],
   "source": [
    "name[1:] # get from position 1 to last"
   ]
  },
  {
   "cell_type": "code",
   "execution_count": 29,
   "metadata": {},
   "outputs": [
    {
     "data": {
      "text/plain": [
       "'Sidd'"
      ]
     },
     "execution_count": 29,
     "metadata": {},
     "output_type": "execute_result"
    }
   ],
   "source": [
    "name[:4] # My nick name"
   ]
  },
  {
   "cell_type": "code",
   "execution_count": 30,
   "metadata": {},
   "outputs": [
    {
     "data": {
      "text/plain": [
       "'Siddharth Jyoti'"
      ]
     },
     "execution_count": 30,
     "metadata": {},
     "output_type": "execute_result"
    }
   ],
   "source": [
    "name[:] # my full name"
   ]
  },
  {
   "cell_type": "code",
   "execution_count": 32,
   "metadata": {},
   "outputs": [
    {
     "data": {
      "text/plain": [
       "'Siddharth Jyot'"
      ]
     },
     "execution_count": 32,
     "metadata": {},
     "output_type": "execute_result"
    }
   ],
   "source": [
    "name[:-1]"
   ]
  },
  {
   "cell_type": "code",
   "execution_count": 35,
   "metadata": {},
   "outputs": [
    {
     "data": {
      "text/plain": [
       "'Siddharth'"
      ]
     },
     "execution_count": 35,
     "metadata": {},
     "output_type": "execute_result"
    }
   ],
   "source": [
    "name[:-6] # remove my surname"
   ]
  },
  {
   "cell_type": "code",
   "execution_count": 36,
   "metadata": {},
   "outputs": [
    {
     "data": {
      "text/plain": [
       "'SdhrhJoi'"
      ]
     },
     "execution_count": 36,
     "metadata": {},
     "output_type": "execute_result"
    }
   ],
   "source": [
    "name[::2] # jump in 2 steps of my name"
   ]
  },
  {
   "cell_type": "code",
   "execution_count": 37,
   "metadata": {},
   "outputs": [
    {
     "data": {
      "text/plain": [
       "'itoyJ htrahddiS'"
      ]
     },
     "execution_count": 37,
     "metadata": {},
     "output_type": "execute_result"
    }
   ],
   "source": [
    "name[::-1] # name in reverse"
   ]
  },
  {
   "cell_type": "code",
   "execution_count": 38,
   "metadata": {},
   "outputs": [
    {
     "ename": "TypeError",
     "evalue": "'str' object does not support item assignment",
     "output_type": "error",
     "traceback": [
      "\u001b[1;31m---------------------------------------------------------------------------\u001b[0m",
      "\u001b[1;31mTypeError\u001b[0m                                 Traceback (most recent call last)",
      "\u001b[1;32m<ipython-input-38-6f302c60c2bc>\u001b[0m in \u001b[0;36m<module>\u001b[1;34m()\u001b[0m\n\u001b[0;32m      1\u001b[0m \u001b[1;31m#string is immutable\u001b[0m\u001b[1;33m\u001b[0m\u001b[1;33m\u001b[0m\u001b[0m\n\u001b[1;32m----> 2\u001b[1;33m \u001b[0mname\u001b[0m\u001b[1;33m[\u001b[0m\u001b[1;36m0\u001b[0m\u001b[1;33m]\u001b[0m \u001b[1;33m=\u001b[0m \u001b[1;34m\"i\"\u001b[0m\u001b[1;33m\u001b[0m\u001b[0m\n\u001b[0m",
      "\u001b[1;31mTypeError\u001b[0m: 'str' object does not support item assignment"
     ]
    }
   ],
   "source": [
    "#string is immutable\n",
    "name[0] = \"i\" # we would recieve TypeError"
   ]
  },
  {
   "cell_type": "code",
   "execution_count": 39,
   "metadata": {},
   "outputs": [
    {
     "data": {
      "text/plain": [
       "'Siddharth Jyoti works for Dell'"
      ]
     },
     "execution_count": 39,
     "metadata": {},
     "output_type": "execute_result"
    }
   ],
   "source": [
    "name + \" works for Dell\""
   ]
  },
  {
   "cell_type": "code",
   "execution_count": 47,
   "metadata": {},
   "outputs": [
    {
     "data": {
      "text/plain": [
       "'Siddharth JyotiSiddharth Jyoti'"
      ]
     },
     "execution_count": 47,
     "metadata": {},
     "output_type": "execute_result"
    }
   ],
   "source": [
    "name  * 2 #print my name 2 times"
   ]
  },
  {
   "cell_type": "code",
   "execution_count": 48,
   "metadata": {},
   "outputs": [
    {
     "data": {
      "text/plain": [
       "['Siddharth', 'Jyoti']"
      ]
     },
     "execution_count": 48,
     "metadata": {},
     "output_type": "execute_result"
    }
   ],
   "source": [
    "name.split() # split by space"
   ]
  },
  {
   "cell_type": "code",
   "execution_count": 53,
   "metadata": {},
   "outputs": [
    {
     "data": {
      "text/plain": [
       "'Insert another string with curly brackets: The inserted string'"
      ]
     },
     "execution_count": 53,
     "metadata": {},
     "output_type": "execute_result"
    }
   ],
   "source": [
    "#Print Formatting \".format()\" method is used to add formatted objects to the printed string statements. \n",
    "'Insert another string with curly brackets: {}'.format('The inserted string')"
   ]
  },
  {
   "cell_type": "code",
   "execution_count": 56,
   "metadata": {},
   "outputs": [
    {
     "data": {
      "text/plain": [
       "2"
      ]
     },
     "execution_count": 56,
     "metadata": {},
     "output_type": "execute_result"
    }
   ],
   "source": [
    "name.count('i') # no of times character appears in string"
   ]
  },
  {
   "cell_type": "code",
   "execution_count": 57,
   "metadata": {},
   "outputs": [
    {
     "data": {
      "text/plain": [
       "'zzSiddharth Jyotizzz'"
      ]
     },
     "execution_count": 57,
     "metadata": {},
     "output_type": "execute_result"
    }
   ],
   "source": [
    "name.center(20,'z')"
   ]
  },
  {
   "cell_type": "code",
   "execution_count": 60,
   "metadata": {},
   "outputs": [
    {
     "data": {
      "text/plain": [
       "'siddharth       Jyoti'"
      ]
     },
     "execution_count": 60,
     "metadata": {},
     "output_type": "execute_result"
    }
   ],
   "source": [
    "'siddharth\\tJyoti'.expandtabs()"
   ]
  },
  {
   "cell_type": "code",
   "execution_count": 64,
   "metadata": {},
   "outputs": [
    {
     "data": {
      "text/plain": [
       "False"
      ]
     },
     "execution_count": 64,
     "metadata": {},
     "output_type": "execute_result"
    }
   ],
   "source": [
    "\" s \".isspace()"
   ]
  },
  {
   "cell_type": "code",
   "execution_count": 65,
   "metadata": {},
   "outputs": [
    {
     "name": "stdout",
     "output_type": "stream",
     "text": [
      "['Siddha', 'th Jyoti']\n",
      "('Siddha', 'r', 'th Jyoti')\n"
     ]
    }
   ],
   "source": [
    "print(name.split('r'))\n",
    "print(name.partition('r')) #returns tuples that includes the seperator\n",
    " "
   ]
  },
  {
   "cell_type": "code",
   "execution_count": 80,
   "metadata": {},
   "outputs": [
    {
     "name": "stdout",
     "output_type": "stream",
     "text": [
      "['DELL', 'Aditi Technologies', 'IBM', 'IBM', 'IBM', 'IBM', 'IBMM', 'IBMM', 'IBMM', 'IBMM', 'IBMM', 'IBMM', 'IBMM', 'IBMM']\n"
     ]
    }
   ],
   "source": [
    "company.append('IBMM')\n",
    "print(company[:1])\n",
    "print(company[1:]) #word at index 1 onwards\n",
    "print(company[::2]) #jump 1 word from the list\n",
    "print(company[:-1])"
   ]
  },
  {
   "cell_type": "code",
   "execution_count": 117,
   "metadata": {},
   "outputs": [
    {
     "data": {
      "text/plain": [
       "['VMWare',\n",
       " 'VMWare',\n",
       " 'VMWare',\n",
       " 'VMWare',\n",
       " 'VMWare',\n",
       " 'VMWare',\n",
       " 'VMWare',\n",
       " 'VMWare',\n",
       " 'VMWare',\n",
       " 'VMWare',\n",
       " 'VMWare',\n",
       " 'VMWare']"
      ]
     },
     "execution_count": 117,
     "metadata": {},
     "output_type": "execute_result"
    }
   ],
   "source": [
    "#company + ['VMWare'] #concatenated new company name in the list \n",
    "#company = company + ['VMWare'] #permanent addition of new item in the list\n",
    "#company * 2 #Make the list double\n",
    "company.pop(0)\n",
    "company"
   ]
  },
  {
   "cell_type": "code",
   "execution_count": 123,
   "metadata": {},
   "outputs": [
    {
     "name": "stdout",
     "output_type": "stream",
     "text": [
      "['VMWare', 'VMWare', 'VMWare', 'VMWare', 'VMWare', 'VMWare', 'VMWare', 'VMWare', 'VMWare', 'VMWare', 'VMWare', 'VMWare']\n"
     ]
    }
   ],
   "source": [
    "company.reverse()\n",
    "print(company)"
   ]
  },
  {
   "cell_type": "code",
   "execution_count": 130,
   "metadata": {},
   "outputs": [
    {
     "data": {
      "text/plain": [
       "1"
      ]
     },
     "execution_count": 130,
     "metadata": {},
     "output_type": "execute_result"
    }
   ],
   "source": [
    "# Let's make three lists\n",
    "lst_1=[1,2,3]\n",
    "lst_2=[4,5,6]\n",
    "lst_3=[7,8,9]\n",
    "\n",
    "# Make a list of lists to form a matrix\n",
    "matrix = [lst_1,lst_2,lst_3]\n",
    "matrix[0][0]"
   ]
  },
  {
   "cell_type": "code",
   "execution_count": 134,
   "metadata": {},
   "outputs": [
    {
     "data": {
      "text/plain": [
       "[1, 4, 7]"
      ]
     },
     "execution_count": 134,
     "metadata": {},
     "output_type": "execute_result"
    }
   ],
   "source": [
    "first_col = [row[0] for row in matrix] #siddharth wants you to see the sign []\n",
    "first_col"
   ]
  },
  {
   "cell_type": "code",
   "execution_count": 135,
   "metadata": {},
   "outputs": [
    {
     "name": "stdout",
     "output_type": "stream",
     "text": [
      "[1, 2, 3, 4, 5]\n",
      "[1, 2, 3, 4, 5, [4, 5]]\n"
     ]
    }
   ],
   "source": [
    "#focus on append and extend\n",
    "x = [1, 2, 3]\n",
    "x.extend([4, 5])\n",
    "print(x)\n",
    "x.append([4, 5])\n",
    "print(x)"
   ]
  },
  {
   "cell_type": "code",
   "execution_count": 136,
   "metadata": {},
   "outputs": [
    {
     "name": "stdout",
     "output_type": "stream",
     "text": [
      "[1, 2, 'siddharth', 3, 4, 5, [4, 5]]\n"
     ]
    }
   ],
   "source": [
    "x.insert(2,'siddharth')\n",
    "print(x)"
   ]
  },
  {
   "cell_type": "code",
   "execution_count": 138,
   "metadata": {},
   "outputs": [
    {
     "name": "stdout",
     "output_type": "stream",
     "text": [
      "[1, 2, 3, 3]\n"
     ]
    }
   ],
   "source": [
    "l = [1,2,3,4,3]\n",
    "l.pop(3) #index starts from -1\n",
    "print(l)"
   ]
  },
  {
   "cell_type": "code",
   "execution_count": 139,
   "metadata": {},
   "outputs": [
    {
     "name": "stdout",
     "output_type": "stream",
     "text": [
      "[1, 2, 4, 3]\n"
     ]
    }
   ],
   "source": [
    "l = [1,2,3,4,3]\n",
    "l.remove(3) #remove 1st occurance of 3\n",
    "print(l)"
   ]
  },
  {
   "cell_type": "code",
   "execution_count": null,
   "metadata": {},
   "outputs": [],
   "source": []
  }
 ],
 "metadata": {
  "kernelspec": {
   "display_name": "Python 3",
   "language": "python",
   "name": "python3"
  },
  "language_info": {
   "codemirror_mode": {
    "name": "ipython",
    "version": 3
   },
   "file_extension": ".py",
   "mimetype": "text/x-python",
   "name": "python",
   "nbconvert_exporter": "python",
   "pygments_lexer": "ipython3",
   "version": "3.6.5"
  }
 },
 "nbformat": 4,
 "nbformat_minor": 2
}
